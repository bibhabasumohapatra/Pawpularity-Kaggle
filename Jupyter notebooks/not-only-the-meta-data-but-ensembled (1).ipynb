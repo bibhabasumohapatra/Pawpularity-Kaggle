{
 "cells": [
  {
   "cell_type": "code",
   "execution_count": 1,
   "id": "0bc0d5a7",
   "metadata": {
    "_cell_guid": "b1076dfc-b9ad-4769-8c92-a6c4dae69d19",
    "_uuid": "8f2839f25d086af736a60e9eeb907d3b93b6e0e5",
    "execution": {
     "iopub.execute_input": "2021-11-03T09:26:50.568972Z",
     "iopub.status.busy": "2021-11-03T09:26:50.491351Z",
     "iopub.status.idle": "2021-11-03T09:26:53.392192Z",
     "shell.execute_reply": "2021-11-03T09:26:53.392701Z",
     "shell.execute_reply.started": "2021-10-16T12:10:38.776764Z"
    },
    "papermill": {
     "duration": 2.919537,
     "end_time": "2021-11-03T09:26:53.392986",
     "exception": false,
     "start_time": "2021-11-03T09:26:50.473449",
     "status": "completed"
    },
    "tags": []
   },
   "outputs": [],
   "source": [
    "%%capture\n",
    "# This Python 3 environment comes with many helpful analytics libraries installed\n",
    "# It is defined by the kaggle/python Docker image: https://github.com/kaggle/docker-python\n",
    "# For example, here's several helpful packages to load\n",
    "\n",
    "import numpy as np # linear algebra\n",
    "import pandas as pd # data processing, CSV file I/O (e.g. pd.read_csv)\n",
    "\n",
    "# Input data files are available in the read-only \"../input/\" directory\n",
    "# For example, running this (by clicking run or pressing Shift+Enter) will list all files under the input directory\n",
    "\n",
    "import os\n",
    "for dirname, _, filenames in os.walk('/kaggle/input'):\n",
    "    for filename in filenames:\n",
    "        print(os.path.join(dirname, filename))\n",
    "\n",
    "# You can write up to 20GB to the current directory (/kaggle/working/) that gets preserved as output when you create a version using \"Save & Run All\" \n",
    "# You can also write temporary files to /kaggle/temp/, but they won't be saved outside of the current session"
   ]
  },
  {
   "cell_type": "code",
   "execution_count": 2,
   "id": "4b1260e2",
   "metadata": {
    "execution": {
     "iopub.execute_input": "2021-11-03T09:26:53.423632Z",
     "iopub.status.busy": "2021-11-03T09:26:53.423018Z",
     "iopub.status.idle": "2021-11-03T09:26:53.462182Z",
     "shell.execute_reply": "2021-11-03T09:26:53.462640Z",
     "shell.execute_reply.started": "2021-10-16T12:10:41.104765Z"
    },
    "papermill": {
     "duration": 0.05551,
     "end_time": "2021-11-03T09:26:53.462790",
     "exception": false,
     "start_time": "2021-11-03T09:26:53.407280",
     "status": "completed"
    },
    "tags": []
   },
   "outputs": [],
   "source": [
    "df = pd.read_csv('../input/petfinder-pawpularity-score/train.csv')\n",
    "test = pd.read_csv('../input/petfinder-pawpularity-score/test.csv')"
   ]
  },
  {
   "cell_type": "code",
   "execution_count": 3,
   "id": "36196577",
   "metadata": {
    "execution": {
     "iopub.execute_input": "2021-11-03T09:26:53.496011Z",
     "iopub.status.busy": "2021-11-03T09:26:53.495365Z",
     "iopub.status.idle": "2021-11-03T09:26:53.502974Z",
     "shell.execute_reply": "2021-11-03T09:26:53.502553Z",
     "shell.execute_reply.started": "2021-10-16T12:10:41.159911Z"
    },
    "papermill": {
     "duration": 0.028041,
     "end_time": "2021-11-03T09:26:53.503088",
     "exception": false,
     "start_time": "2021-11-03T09:26:53.475047",
     "status": "completed"
    },
    "tags": []
   },
   "outputs": [],
   "source": [
    "df = df.drop(columns = 'Id')\n",
    "test =test.drop(columns = 'Id')"
   ]
  },
  {
   "cell_type": "code",
   "execution_count": 4,
   "id": "e0e37e7d",
   "metadata": {
    "execution": {
     "iopub.execute_input": "2021-11-03T09:26:53.531544Z",
     "iopub.status.busy": "2021-11-03T09:26:53.530989Z",
     "iopub.status.idle": "2021-11-03T09:26:53.534709Z",
     "shell.execute_reply": "2021-11-03T09:26:53.534268Z",
     "shell.execute_reply.started": "2021-10-16T12:10:41.181262Z"
    },
    "papermill": {
     "duration": 0.019794,
     "end_time": "2021-11-03T09:26:53.534817",
     "exception": false,
     "start_time": "2021-11-03T09:26:53.515023",
     "status": "completed"
    },
    "tags": []
   },
   "outputs": [],
   "source": [
    "X = df.drop(columns = 'Pawpularity')\n",
    "y = df.Pawpularity"
   ]
  },
  {
   "cell_type": "code",
   "execution_count": 5,
   "id": "46407cbd",
   "metadata": {
    "execution": {
     "iopub.execute_input": "2021-11-03T09:26:53.563999Z",
     "iopub.status.busy": "2021-11-03T09:26:53.563338Z",
     "iopub.status.idle": "2021-11-03T09:26:54.422064Z",
     "shell.execute_reply": "2021-11-03T09:26:54.422501Z",
     "shell.execute_reply.started": "2021-10-16T12:10:41.191366Z"
    },
    "papermill": {
     "duration": 0.875956,
     "end_time": "2021-11-03T09:26:54.422659",
     "exception": false,
     "start_time": "2021-11-03T09:26:53.546703",
     "status": "completed"
    },
    "tags": []
   },
   "outputs": [
    {
     "name": "stdout",
     "output_type": "stream",
     "text": [
      "7929 1983\n",
      "7929 1983\n",
      "7930 1982\n",
      "7930 1982\n",
      "7930 1982\n"
     ]
    },
    {
     "name": "stderr",
     "output_type": "stream",
     "text": [
      "/opt/conda/lib/python3.7/site-packages/sklearn/model_selection/_split.py:297: FutureWarning: Setting a random_state has no effect since shuffle is False. This will raise an error in 0.24. You should leave random_state to its default (None), or set shuffle=True.\n",
      "  FutureWarning\n",
      "/opt/conda/lib/python3.7/site-packages/sklearn/model_selection/_split.py:672: UserWarning: The least populated class in y has only 4 members, which is less than n_splits=5.\n",
      "  % (min_groups, self.n_splits)), UserWarning)\n"
     ]
    }
   ],
   "source": [
    "#create_folds.py \n",
    "from sklearn import model_selection\n",
    "df[\"kfold\"] = -1\n",
    "\n",
    "df = df.sample(frac=1).reset_index(drop=True)\n",
    "\n",
    "kf = model_selection.StratifiedKFold(n_splits=5, shuffle=False, random_state=42)\n",
    "\n",
    "for fold, (train_idx, val_idx) in enumerate(kf.split(X=df,y=df.Pawpularity.values)):\n",
    "    print(len(train_idx), len(val_idx))\n",
    "    df.loc[val_idx, 'kfold'] = fold\n"
   ]
  },
  {
   "cell_type": "code",
   "execution_count": 6,
   "id": "170681ef",
   "metadata": {
    "execution": {
     "iopub.execute_input": "2021-11-03T09:26:54.456136Z",
     "iopub.status.busy": "2021-11-03T09:26:54.455509Z",
     "iopub.status.idle": "2021-11-03T09:26:58.911230Z",
     "shell.execute_reply": "2021-11-03T09:26:58.910346Z",
     "shell.execute_reply.started": "2021-10-16T12:10:42.065476Z"
    },
    "papermill": {
     "duration": 4.475897,
     "end_time": "2021-11-03T09:26:58.911425",
     "exception": false,
     "start_time": "2021-11-03T09:26:54.435528",
     "status": "completed"
    },
    "tags": []
   },
   "outputs": [
    {
     "data": {
      "text/html": [
       "<style type='text/css'>\n",
       ".datatable table.frame { margin-bottom: 0; }\n",
       ".datatable table.frame thead { border-bottom: none; }\n",
       ".datatable table.frame tr.coltypes td {  color: #FFFFFF;  line-height: 6px;  padding: 0 0.5em;}\n",
       ".datatable .bool    { background: #DDDD99; }\n",
       ".datatable .object  { background: #565656; }\n",
       ".datatable .int     { background: #5D9E5D; }\n",
       ".datatable .float   { background: #4040CC; }\n",
       ".datatable .str     { background: #CC4040; }\n",
       ".datatable .time    { background: #40CC40; }\n",
       ".datatable .row_index {  background: var(--jp-border-color3);  border-right: 1px solid var(--jp-border-color0);  color: var(--jp-ui-font-color3);  font-size: 9px;}\n",
       ".datatable .frame tbody td { text-align: left; }\n",
       ".datatable .frame tr.coltypes .row_index {  background: var(--jp-border-color0);}\n",
       ".datatable th:nth-child(2) { padding-left: 12px; }\n",
       ".datatable .hellipsis {  color: var(--jp-cell-editor-border-color);}\n",
       ".datatable .vellipsis {  background: var(--jp-layout-color0);  color: var(--jp-cell-editor-border-color);}\n",
       ".datatable .na {  color: var(--jp-cell-editor-border-color);  font-size: 80%;}\n",
       ".datatable .sp {  opacity: 0.25;}\n",
       ".datatable .footer { font-size: 9px; }\n",
       ".datatable .frame_dimensions {  background: var(--jp-border-color3);  border-top: 1px solid var(--jp-border-color0);  color: var(--jp-ui-font-color3);  display: inline-block;  opacity: 0.6;  padding: 1px 10px 1px 5px;}\n",
       "</style>\n"
      ],
      "text/plain": [
       "<IPython.core.display.HTML object>"
      ]
     },
     "metadata": {},
     "output_type": "display_data"
    },
    {
     "name": "stdout",
     "output_type": "stream",
     "text": [
      "Fold=0, accuracy_score=15.76675484340358\n",
      "Fold=1, accuracy_score=15.632957846602586\n",
      "Fold=2, accuracy_score=15.658862034199096\n",
      "Fold=3, accuracy_score=15.50946611737387\n",
      "Fold=4, accuracy_score=15.57094066841932\n"
     ]
    }
   ],
   "source": [
    "import joblib\n",
    "import lightgbm as lgb\n",
    "import xgboost as xg\n",
    "import pandas as pd\n",
    "from sklearn import metrics\n",
    "\n",
    "\n",
    "from sklearn import tree\n",
    "def run(fold):\n",
    "    df_train = df[df.kfold != fold].reset_index(drop=True)\n",
    "    df_valid = df[df.kfold == fold].reset_index(drop=True)\n",
    "    df_train = df_train.drop(columns = 'kfold')\n",
    "    df_valid = df_valid.drop(columns = 'kfold')\n",
    "    x_train = df_train.drop('Pawpularity', axis=1).values\n",
    "    y_train = df_train.Pawpularity.values\n",
    "    x_valid = df_valid.drop('Pawpularity', axis=1).values\n",
    "    y_valid = df_valid.Pawpularity.values\n",
    "    model = xg.XGBRegressor(tree_method='gpu_hist')\n",
    "    model.fit(x_train, y_train)\n",
    "    y_pred = model.predict(x_valid)\n",
    "    accuracy_score = metrics.mean_absolute_error(y_valid,y_pred)\n",
    "    print(f\"Fold={fold}, accuracy_score={accuracy_score}\")\n",
    "    File_name = 'model_' + str(fold)\n",
    "    joblib.dump(\n",
    "    model,File_name)\n",
    "for i in range(5):\n",
    "    run(fold = i)"
   ]
  },
  {
   "cell_type": "code",
   "execution_count": 7,
   "id": "c9572696",
   "metadata": {
    "execution": {
     "iopub.execute_input": "2021-11-03T09:26:58.949095Z",
     "iopub.status.busy": "2021-11-03T09:26:58.948251Z",
     "iopub.status.idle": "2021-11-03T09:26:59.045462Z",
     "shell.execute_reply": "2021-11-03T09:26:59.045001Z",
     "shell.execute_reply.started": "2021-10-16T12:10:47.140907Z"
    },
    "papermill": {
     "duration": 0.117773,
     "end_time": "2021-11-03T09:26:59.045592",
     "exception": false,
     "start_time": "2021-11-03T09:26:58.927819",
     "status": "completed"
    },
    "tags": []
   },
   "outputs": [],
   "source": [
    "model_0 = joblib.load('./model_0')\n",
    "model_1 = joblib.load('./model_1')\n",
    "model_2 = joblib.load('./model_2')\n",
    "model_3 = joblib.load('./model_3')\n",
    "model_4 = joblib.load('./model_4')"
   ]
  },
  {
   "cell_type": "code",
   "execution_count": 8,
   "id": "8048e3c8",
   "metadata": {
    "execution": {
     "iopub.execute_input": "2021-11-03T09:26:59.079061Z",
     "iopub.status.busy": "2021-11-03T09:26:59.078333Z",
     "iopub.status.idle": "2021-11-03T09:26:59.088140Z",
     "shell.execute_reply": "2021-11-03T09:26:59.088857Z",
     "shell.execute_reply.started": "2021-10-16T12:10:47.245738Z"
    },
    "papermill": {
     "duration": 0.028903,
     "end_time": "2021-11-03T09:26:59.089005",
     "exception": false,
     "start_time": "2021-11-03T09:26:59.060102",
     "status": "completed"
    },
    "tags": []
   },
   "outputs": [],
   "source": [
    "y_final_3 = model_3.predict(test)\n",
    "y_final_0 = model_0.predict(test)\n",
    "y_final_1 = model_1.predict(test)\n",
    "y_final_2 = model_2.predict(test)\n",
    "y_final_4 = model_4.predict(test)"
   ]
  },
  {
   "cell_type": "code",
   "execution_count": 9,
   "id": "91586086",
   "metadata": {
    "execution": {
     "iopub.execute_input": "2021-11-03T09:26:59.124311Z",
     "iopub.status.busy": "2021-11-03T09:26:59.122787Z",
     "iopub.status.idle": "2021-11-03T09:26:59.124949Z",
     "shell.execute_reply": "2021-11-03T09:26:59.125335Z",
     "shell.execute_reply.started": "2021-10-16T12:10:47.272033Z"
    },
    "papermill": {
     "duration": 0.020231,
     "end_time": "2021-11-03T09:26:59.125487",
     "exception": false,
     "start_time": "2021-11-03T09:26:59.105256",
     "status": "completed"
    },
    "tags": []
   },
   "outputs": [],
   "source": [
    "y_final_avg = (y_final_0 + y_final_1 +y_final_2 + y_final_3 + y_final_4)/5"
   ]
  },
  {
   "cell_type": "markdown",
   "id": "693b76a7",
   "metadata": {
    "execution": {
     "iopub.execute_input": "2021-10-16T12:10:47.289896Z",
     "iopub.status.busy": "2021-10-16T12:10:47.289697Z",
     "iopub.status.idle": "2021-10-16T12:10:47.301941Z",
     "shell.execute_reply": "2021-10-16T12:10:47.301179Z",
     "shell.execute_reply.started": "2021-10-16T12:10:47.289875Z"
    },
    "papermill": {
     "duration": 0.013908,
     "end_time": "2021-11-03T09:26:59.153786",
     "exception": false,
     "start_time": "2021-11-03T09:26:59.139878",
     "status": "completed"
    },
    "tags": []
   },
   "source": [
    "#####  IMAGE ONE"
   ]
  },
  {
   "cell_type": "code",
   "execution_count": 10,
   "id": "74173302",
   "metadata": {
    "execution": {
     "iopub.execute_input": "2021-11-03T09:26:59.186942Z",
     "iopub.status.busy": "2021-11-03T09:26:59.186388Z",
     "iopub.status.idle": "2021-11-03T09:27:04.476688Z",
     "shell.execute_reply": "2021-11-03T09:27:04.477162Z",
     "shell.execute_reply.started": "2021-10-27T04:18:37.033631Z"
    },
    "papermill": {
     "duration": 5.309399,
     "end_time": "2021-11-03T09:27:04.477338",
     "exception": false,
     "start_time": "2021-11-03T09:26:59.167939",
     "status": "completed"
    },
    "tags": []
   },
   "outputs": [],
   "source": [
    "from __future__ import print_function, division\n",
    "import numpy as np\n",
    "import pandas as pd\n",
    "import os\n",
    "import torch\n",
    "import torchvision\n",
    "import pandas as pd\n",
    "from skimage import io, transform\n",
    "import numpy as np\n",
    "import matplotlib.pyplot as plt\n",
    "from torch.utils.data import Dataset, DataLoader\n",
    "from torchvision import transforms, utils\n",
    "import torch.nn as nn\n",
    "import albumentations"
   ]
  },
  {
   "cell_type": "code",
   "execution_count": 11,
   "id": "203e232e",
   "metadata": {
    "execution": {
     "iopub.execute_input": "2021-11-03T09:27:04.519203Z",
     "iopub.status.busy": "2021-11-03T09:27:04.518454Z",
     "iopub.status.idle": "2021-11-03T09:27:04.521012Z",
     "shell.execute_reply": "2021-11-03T09:27:04.520598Z",
     "shell.execute_reply.started": "2021-10-27T04:18:37.91444Z"
    },
    "papermill": {
     "duration": 0.027987,
     "end_time": "2021-11-03T09:27:04.521123",
     "exception": false,
     "start_time": "2021-11-03T09:27:04.493136",
     "status": "completed"
    },
    "tags": []
   },
   "outputs": [],
   "source": [
    "import torch\n",
    "import torch.nn as nn\n",
    "from skimage import io, transform\n",
    "\n",
    "class CustomDataset(torch.utils.data.Dataset):\n",
    "    def __init__(self,image_path,features,targets,augmentations=None):\n",
    "        self.image_path = image_path\n",
    "        self.features = features\n",
    "        self.targets = targets\n",
    "        self.augmentations = augmentations\n",
    "        \n",
    "    def __len__(self):\n",
    "        return len(self.image_path)\n",
    "    \n",
    "    def __getitem__(self,item):\n",
    "        image = io.imread(self.image_path[item])\n",
    "        features = self.features[item,:]\n",
    "        targets = self.targets[item]\n",
    "        \n",
    "        if self.augmentations is not None:\n",
    "            augmented = self.augmentations(image=image)\n",
    "            image = augmented[\"image\"]\n",
    "            \n",
    "        image = np.transpose(image, (2, 0, 1)).astype(np.float32)\n",
    "        return {\n",
    "            \"image\": torch.tensor(image, dtype=torch.float),\n",
    "            \"features\": torch.tensor(features, dtype=torch.float),\n",
    "            \"targets\": torch.tensor(targets, dtype=torch.float),\n",
    "        }"
   ]
  },
  {
   "cell_type": "code",
   "execution_count": 12,
   "id": "6d060cf1",
   "metadata": {
    "execution": {
     "iopub.execute_input": "2021-11-03T09:27:04.553766Z",
     "iopub.status.busy": "2021-11-03T09:27:04.553248Z",
     "iopub.status.idle": "2021-11-03T09:27:06.140378Z",
     "shell.execute_reply": "2021-11-03T09:27:06.139518Z",
     "shell.execute_reply.started": "2021-10-27T04:18:37.929023Z"
    },
    "papermill": {
     "duration": 1.604817,
     "end_time": "2021-11-03T09:27:06.140553",
     "exception": false,
     "start_time": "2021-11-03T09:27:04.535736",
     "status": "completed"
    },
    "tags": []
   },
   "outputs": [],
   "source": [
    "import sys\n",
    "sys.path.append('../input/timm-pytorch-image-models/pytorch-image-models-master')\n",
    "import timm"
   ]
  },
  {
   "cell_type": "code",
   "execution_count": 13,
   "id": "268aed91",
   "metadata": {
    "execution": {
     "iopub.execute_input": "2021-11-03T09:27:06.179294Z",
     "iopub.status.busy": "2021-11-03T09:27:06.178522Z",
     "iopub.status.idle": "2021-11-03T09:27:06.181166Z",
     "shell.execute_reply": "2021-11-03T09:27:06.180741Z",
     "shell.execute_reply.started": "2021-10-27T04:18:43.711806Z"
    },
    "papermill": {
     "duration": 0.025977,
     "end_time": "2021-11-03T09:27:06.181276",
     "exception": false,
     "start_time": "2021-11-03T09:27:06.155299",
     "status": "completed"
    },
    "tags": []
   },
   "outputs": [],
   "source": [
    "import torch\n",
    "import torch.nn as nn\n",
    "\n",
    "model_name = 'swin_tiny_patch4_window7_224'\n",
    "\n",
    "out_dim    = 1\n",
    "\n",
    "class get_model(torch.nn.Module):\n",
    "    def __init__(self):\n",
    "        super().__init__()\n",
    "        self.model = timm.create_model(model_name, pretrained=False)\n",
    "        self.model.head = nn.Sequential(nn.Linear(self.model.head.in_features,512),\n",
    "                                              nn.Linear(512,256))\n",
    "        self.last = nn.Linear(256 + 12, 128)\n",
    "        self.depth1 = nn.Linear(128,64)\n",
    "        self.depth2 = nn.Linear(64,1)\n",
    "    def forward(self, image, features):\n",
    "        x = self.model(image)\n",
    "        x = self.last(torch.cat([x, features], dim=1))\n",
    "        x = self.depth1(x)\n",
    "        x = self.depth2(x)\n",
    "        return x"
   ]
  },
  {
   "cell_type": "code",
   "execution_count": 14,
   "id": "50dad04f",
   "metadata": {
    "execution": {
     "iopub.execute_input": "2021-11-03T09:27:06.215576Z",
     "iopub.status.busy": "2021-11-03T09:27:06.214843Z",
     "iopub.status.idle": "2021-11-03T09:27:06.217670Z",
     "shell.execute_reply": "2021-11-03T09:27:06.217221Z",
     "shell.execute_reply.started": "2021-10-27T04:18:59.801267Z"
    },
    "papermill": {
     "duration": 0.022143,
     "end_time": "2021-11-03T09:27:06.217785",
     "exception": false,
     "start_time": "2021-11-03T09:27:06.195642",
     "status": "completed"
    },
    "tags": []
   },
   "outputs": [],
   "source": [
    "import os\n",
    "from sklearn import metrics\n",
    "import albumentations\n",
    "device = 'cuda'\n",
    "epochs = 12\n",
    "data_path = '../input/petfinder-pawpularity-score'\n",
    "\n",
    "valid_aug = albumentations.Compose(\n",
    "    [\n",
    "        albumentations.Resize(224, 224, p=1),\n",
    "        albumentations.Normalize(\n",
    "            mean=[0.485, 0.456, 0.406],\n",
    "            std=[0.229, 0.224, 0.225],\n",
    "            max_pixel_value=255.0,\n",
    "            p=1.0,\n",
    "        ),\n",
    "    ],\n",
    "    p=1.0,\n",
    ")"
   ]
  },
  {
   "cell_type": "code",
   "execution_count": 15,
   "id": "611f4abb",
   "metadata": {
    "execution": {
     "iopub.execute_input": "2021-11-03T09:27:06.251808Z",
     "iopub.status.busy": "2021-11-03T09:27:06.250159Z",
     "iopub.status.idle": "2021-11-03T09:27:06.252412Z",
     "shell.execute_reply": "2021-11-03T09:27:06.252852Z",
     "shell.execute_reply.started": "2021-10-27T04:19:03.307671Z"
    },
    "papermill": {
     "duration": 0.0209,
     "end_time": "2021-11-03T09:27:06.252967",
     "exception": false,
     "start_time": "2021-11-03T09:27:06.232067",
     "status": "completed"
    },
    "tags": []
   },
   "outputs": [],
   "source": [
    "feats = [\n",
    "    'Subject Focus', 'Eyes', 'Face', 'Near', 'Action', 'Accessory',\n",
    "    'Group', 'Collage', 'Human', 'Occlusion', 'Info', 'Blur'\n",
    "]"
   ]
  },
  {
   "cell_type": "code",
   "execution_count": 16,
   "id": "731974a3",
   "metadata": {
    "execution": {
     "iopub.execute_input": "2021-11-03T09:27:06.292118Z",
     "iopub.status.busy": "2021-11-03T09:27:06.291552Z",
     "iopub.status.idle": "2021-11-03T09:27:17.817145Z",
     "shell.execute_reply": "2021-11-03T09:27:17.816055Z",
     "shell.execute_reply.started": "2021-10-27T04:22:52.119522Z"
    },
    "papermill": {
     "duration": 11.55031,
     "end_time": "2021-11-03T09:27:17.817279",
     "exception": false,
     "start_time": "2021-11-03T09:27:06.266969",
     "status": "completed"
    },
    "tags": []
   },
   "outputs": [],
   "source": [
    "from itertools import chain\n",
    "device = 'cuda'\n",
    "model_f = get_model()\n",
    "model_f.to(device)\n",
    "df_test = pd.read_csv('../input/petfinder-pawpularity-score/test.csv')\n",
    "for e in {0,1,3}:\n",
    "    \n",
    "    model_f.load_state_dict(torch.load('../input/classifier-of-pawpularity-of-deep-learning/model-epoch'+str(e)+'.pth'))\n",
    "    data_path = '../input/petfinder-pawpularity-score'\n",
    "    device = 'cuda'\n",
    "    test_images = df_test.Id.values.tolist()\n",
    "    test_images = [os.path.join(data_path,'test',i + '.jpg') for i in test_images]\n",
    "\n",
    "    test_dataset =  CustomDataset(image_path = test_images,features=df_test[feats].values,targets = np.ones(len(test_images)),augmentations=valid_aug)\n",
    "    test_loader = torch.utils.data.DataLoader(test_dataset,batch_size=1,shuffle=False) \n",
    "\n",
    "\n",
    "    final_outputs = []\n",
    "\n",
    "    with torch.no_grad():\n",
    "        for data in test_loader:\n",
    "            inputs = data['image']\n",
    "            features=data['features']\n",
    "            inputs = inputs.to(device, dtype=torch.float)\n",
    "            features=features.to(device, dtype=torch.float)\n",
    "            output = model_f(inputs,features)\n",
    "            output = (torch.sigmoid(output).detach().cpu().numpy()*100).tolist()\n",
    "            final_outputs.extend(output)\n",
    "    final_outputs = list(chain.from_iterable(final_outputs)) \n",
    "    y_final_avg = (y_final_avg + final_outputs)/2\n",
    "\n",
    "\n",
    "submission = pd.read_csv('../input/petfinder-pawpularity-score/sample_submission.csv')\n",
    "# final_outputs = (final_outputs + y_final_avg)/2\n",
    "submission['Pawpularity'] = y_final_avg\n",
    "submission.to_csv('submission.csv',index = False)"
   ]
  }
 ],
 "metadata": {
  "kernelspec": {
   "display_name": "Python 3",
   "language": "python",
   "name": "python3"
  },
  "language_info": {
   "codemirror_mode": {
    "name": "ipython",
    "version": 3
   },
   "file_extension": ".py",
   "mimetype": "text/x-python",
   "name": "python",
   "nbconvert_exporter": "python",
   "pygments_lexer": "ipython3",
   "version": "3.7.10"
  },
  "papermill": {
   "default_parameters": {},
   "duration": 36.622817,
   "end_time": "2021-11-03T09:27:20.513372",
   "environment_variables": {},
   "exception": null,
   "input_path": "__notebook__.ipynb",
   "output_path": "__notebook__.ipynb",
   "parameters": {},
   "start_time": "2021-11-03T09:26:43.890555",
   "version": "2.3.3"
  }
 },
 "nbformat": 4,
 "nbformat_minor": 5
}
